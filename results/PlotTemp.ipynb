{
 "cells": [
  {
   "cell_type": "code",
   "execution_count": 1,
   "metadata": {},
   "outputs": [],
   "source": [
    "import matplotlib as mpl\n",
    "mpl.use('Agg')\n",
    "\n",
    "import numpy as np\n",
    "import matplotlib.pyplot as plt\n",
    "\n",
    "import matplotlib.patches as patches\n",
    "\n",
    "mpl.rcParams['font.family'] = 'serif'\n",
    "mpl.rcParams['font.serif'] = 'stixGeneral'\n",
    "mpl.rcParams['mathtext.fontset'] = 'stix'"
   ]
  },
  {
   "cell_type": "code",
   "execution_count": 2,
   "metadata": {},
   "outputs": [],
   "source": [
    "def InDomain(x, y):\n",
    "    if x < -1.0 or x > 1.0 or y < -1.0 or y > 1.0:\n",
    "        return False\n",
    "    if (x + 0.5) ** 2 + (y + 0.5) ** 2 < 0.0625:\n",
    "        return False\n",
    "    if (x + 0.5) ** 2 + (y - 0.5) ** 2 < 0.01:\n",
    "        return False\n",
    "    if (x - 0.5) ** 2 + (y + 1.0) ** 2 < 0.0625:\n",
    "        return False\n",
    "    if (x - 0.5) ** 2 + (y - 1.0) ** 2 < 0.0625:\n",
    "        return False\n",
    "    if (x - 0.5) ** 2 + y ** 2 < 0.01:\n",
    "        return False\n",
    "    return True"
   ]
  },
  {
   "cell_type": "code",
   "execution_count": 5,
   "metadata": {},
   "outputs": [],
   "source": [
    "fig = plt.figure(figsize=[5, 4])\n",
    "ax = fig.add_subplot(111)\n",
    "plt.gca().set_aspect('equal')\n",
    "\n",
    "tag = 'Porous_4_1_1'\n",
    "fName = 'raw/' + tag + '.dat'\n",
    "data1 = np.loadtxt(fName, skiprows = 0)\n",
    "X = data1[:,0]\n",
    "Y = data1[:,1]\n",
    "T = data1[:,2]\n",
    "\n",
    "Nx = 501\n",
    "Ny = 501\n",
    "\n",
    "Xgrid = np.zeros((Ny,Nx))\n",
    "Ygrid = np.zeros((Ny,Nx))\n",
    "Tgrid = np.zeros((Ny,Nx))\n",
    "Ugrid = np.zeros((Ny,Nx))\n",
    "Vgrid = np.zeros((Ny,Nx))\n",
    "\n",
    "for j in range(0,Ny):\n",
    "    for i in range (0,Nx):\n",
    "        Xgrid[j,i] = X[i+j*Nx]\n",
    "        Ygrid[j,i] = Y[i+j*Nx]\n",
    "        Tgrid[j,i] = T[i+j*Nx]\n",
    "        if Tgrid[j,i] == 0:\n",
    "            Tgrid[j,i] = np.nan\n",
    "        # if InDomain(Xgrid[j, i], Ygrid[j, i]) is False:\n",
    "        #     Tgrid[j,i] = np.nan\n",
    "        \n",
    "c = plt.contourf(Xgrid, Ygrid, Tgrid, np.linspace(-0.7, 0.7, 21), cmap = 'coolwarm')\n",
    "plt.colorbar(c)\n",
    "\n",
    "plt.title('Temperature Distribution at Stable State')\n",
    "plt.axis([-1.0, 1.0, -1.0, 1.0])\n",
    "plt.ylabel('$y$',fontsize=12)\n",
    "plt.xlabel('$x$',fontsize=12)\n",
    "ax.tick_params(axis='both', labelsize=12)\n",
    "# ax.axis('off')\n",
    "ax.set_xticks(np.linspace(-1.0, 1.0, 5))\n",
    "ax.set_yticks(np.linspace(-1.0, 1.0, 5))\n",
    "\n",
    "\n",
    "# plt.tight_layout()\n",
    "plt.subplots_adjust(left=0.2, right=0.8, top=0.8, bottom=0.2)\n",
    "figname = 'figs/' + tag + '_Temp_cg.png'\n",
    "plt.savefig(figname, dpi = 500)"
   ]
  }
 ],
 "metadata": {
  "kernelspec": {
   "display_name": "Python 3",
   "language": "python",
   "name": "python3"
  },
  "language_info": {
   "codemirror_mode": {
    "name": "ipython",
    "version": 3
   },
   "file_extension": ".py",
   "mimetype": "text/x-python",
   "name": "python",
   "nbconvert_exporter": "python",
   "pygments_lexer": "ipython3",
   "version": "3.10.12"
  }
 },
 "nbformat": 4,
 "nbformat_minor": 2
}
